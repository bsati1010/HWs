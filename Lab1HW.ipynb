{
  "nbformat": 4,
  "nbformat_minor": 0,
  "metadata": {
    "colab": {
      "provenance": [],
      "authorship_tag": "ABX9TyNXcxdnFW290JEHkN0Q80Vs",
      "include_colab_link": true
    },
    "kernelspec": {
      "name": "python3",
      "display_name": "Python 3"
    },
    "language_info": {
      "name": "python"
    }
  },
  "cells": [
    {
      "cell_type": "markdown",
      "metadata": {
        "id": "view-in-github",
        "colab_type": "text"
      },
      "source": [
        "<a href=\"https://colab.research.google.com/github/bsati1010/HWs/blob/main/Lab1HW.ipynb\" target=\"_parent\"><img src=\"https://colab.research.google.com/assets/colab-badge.svg\" alt=\"Open In Colab\"/></a>"
      ]
    },
    {
      "cell_type": "code",
      "execution_count": 4,
      "metadata": {
        "id": "SkvvhtyvZ9qc"
      },
      "outputs": [],
      "source": [
        "class LinkedList:\n",
        "  def __init__ (self, num, next):\n",
        "    self.str = num\n",
        "    self.next = next\n",
        "  def insert(self, str):\n",
        "    if self.next == None:\n",
        "      self.next = LinkedList (str, None)\n",
        "    else:\n",
        "      self.next. insert(str)\n",
        "a = LinkedList(\"gabi\", LinkedList(\"lison\", LinkedList(\"madi\", None)))\n",
        "a.insert(\"carley\")"
      ]
    }
  ]
}