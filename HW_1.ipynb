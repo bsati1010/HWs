{
  "nbformat": 4,
  "nbformat_minor": 0,
  "metadata": {
    "colab": {
      "provenance": [],
      "authorship_tag": "ABX9TyN12J4++1qIWCjybEhgbHmD",
      "include_colab_link": true
    },
    "kernelspec": {
      "name": "python3",
      "display_name": "Python 3"
    },
    "language_info": {
      "name": "python"
    }
  },
  "cells": [
    {
      "cell_type": "markdown",
      "metadata": {
        "id": "view-in-github",
        "colab_type": "text"
      },
      "source": [
        "<a href=\"https://colab.research.google.com/github/bsati1010/HWs/blob/main/HW_1.ipynb\" target=\"_parent\"><img src=\"https://colab.research.google.com/assets/colab-badge.svg\" alt=\"Open In Colab\"/></a>"
      ]
    },
    {
      "cell_type": "markdown",
      "source": [
        "  **Problem 1**. Define Fair as having an expected value $0$ (zero). Probability of rolling a $7$ is $\\frac{6}{36}=\\frac{1}{6}$. The expected value $(4 \\cdot \\frac{1}{6} - 1 \\cdot \\frac{4}{5} - \\frac{5}{6} = -\\frac{1}{6}$. Not fair. Fair would be with $5$ instead of $4$ for a win."
      ],
      "metadata": {
        "id": "HsaG1_QWGfTL"
      }
    },
    {
      "cell_type": "code",
      "execution_count": null,
      "metadata": {
        "colab": {
          "base_uri": "https://localhost:8080/"
        },
        "id": "V9h2dB1AGPLy",
        "outputId": "0dfeff11-79dd-4b7d-d546-c1fe837e24ad"
      },
      "outputs": [
        {
          "output_type": "stream",
          "name": "stdout",
          "text": [
            "-0.170765\n"
          ]
        }
      ],
      "source": [
        "import random\n",
        "\n",
        "times = 1000000\n",
        "money = 0\n",
        "\n",
        "\n",
        "for i in range(times):\n",
        "   d1 = random.randint(1, 6)\n",
        "   d2 = random.randint(1, 6)\n",
        "   sum = d1 + d2\n",
        "   if sum == 7:\n",
        "    money+=4\n",
        "   else:\n",
        "    money-=1\n",
        "\n",
        "print(money/times)"
      ]
    },
    {
      "cell_type": "markdown",
      "source": [
        "**Problem 2**. One dice has $6$ faces so $3$ dices have $216$ faces. **Smallest Sum** is $3$ if all 3 dices show $1$. **Largest Sum** is $18$ if all 3 dices show $6$. So range of sums is $3,4,5,6,7,...18$. Prime number in that range is $3,5,7,11,13,17$. Now total prime outcomes to get these as sum is $73$. So probability of non prime sum is $\\frac{216-73}{216}$ = $\\frac{143}{216}$.  "
      ],
      "metadata": {
        "id": "9YAhF98bIWiJ"
      }
    },
    {
      "cell_type": "code",
      "source": [
        "count = 0\n",
        "\n",
        "for d1 in range(1, 7):\n",
        "  for d2 in range(1, 7):\n",
        "    for d3 in range( 1, 7):\n",
        "      sum = d1 + d2 + d3\n",
        "      if sum not in [3, 5, 7, 11, 17]:\n",
        "        count+=1\n",
        "      else:\n",
        "        pass\n",
        "\n",
        "print(count/(6*6*6))"
      ],
      "metadata": {
        "colab": {
          "base_uri": "https://localhost:8080/"
        },
        "id": "LmUhGSx0InDD",
        "outputId": "42d688af-ce1e-46e7-a753-b9967f6d1af7"
      },
      "execution_count": null,
      "outputs": [
        {
          "output_type": "stream",
          "name": "stdout",
          "text": [
            "0.7592592592592593\n"
          ]
        }
      ]
    },
    {
      "cell_type": "markdown",
      "source": [
        "**Problem 3**."
      ],
      "metadata": {
        "id": "nhQEBwLfMI35"
      }
    },
    {
      "cell_type": "code",
      "source": [
        "locker = ['c'] * 100\n",
        "\n",
        "for student in range(1,101):\n",
        "  step = student\n",
        "  for lock in range(step-1,100,step):\n",
        "    if locker[lock]==\"c\":\n",
        "      locker[lock]=\"o\"\n",
        "    else:\n",
        "      locker[lock]=\"c\"\n",
        "\n",
        "  print(\"student\" + str(student) + \" - \" + \"\".join(locker))"
      ],
      "metadata": {
        "id": "KciOiIXnMSPK",
        "colab": {
          "base_uri": "https://localhost:8080/"
        },
        "outputId": "c788c4a9-c0da-4b05-ea19-9c467345bb18"
      },
      "execution_count": null,
      "outputs": [
        {
          "output_type": "stream",
          "name": "stdout",
          "text": [
            "student1 - oooooooooooooooooooooooooooooooooooooooooooooooooooooooooooooooooooooooooooooooooooooooooooooooooooo\n",
            "student2 - ococococococococococococococococococococococococococococococococococococococococococococococococococ\n",
            "student3 - occcooocccooocccooocccooocccooocccooocccooocccooocccooocccooocccooocccooocccooocccooocccooocccoooccc\n",
            "student4 - occoooooccococcoooooccococcoooooccococcoooooccococcoooooccococcoooooccococcoooooccococcoooooccococco\n",
            "student5 - occocooocoococooooocccoccccoocooccccocccooooococoocooococcoooccocooocoococooooocccoccccoocooccccoccc\n",
            "student6 - occoccoocoooocooococccoocccooooocccoocccocooocoooocooccoccococcoccoocoooocooococccoocccooooocccooccc\n",
            "student7 - occocccocoooooooocococooccccooooccooocccooooocoococoocccccococooccooccooocooccocccoccccooococccooocc\n",
            "student8 - occocccccoooooocococococccccooocccoooccoooooococcocooccoccocococccooccococooccooccocccccoococcccoocc\n",
            "student9 - occoccccooooooocooocococccocooocccococcoooooccoccocooococcococccccooccooocooccooococccccoccoccccoooc\n",
            "student10 - occoccccocooooocooooococccocococccococccooooccoccccooococcooocccccoocoooocooccocococccccoococcccoooo\n",
            "student11 - occoccccoccoooocooooooocccococococococccooocccoccccoooooccoooccccooocoooocooococococcccooococcccooco\n",
            "student12 - occoccccocccooocooooooooccococococooocccooocccoocccoooooccococcccooocoococooocococoocccooococccoooco\n",
            "student13 - occoccccoccccoocoooooooocoococococooococooocccooccccooooccococccoooocoococooooococoocccooooocccoooco\n",
            "student14 - occoccccocccccocoooooooocoooocococooococococccooccccooocccococccooooccococooooocococcccooooocccoocco\n",
            "student15 - occoccccocccccccoooooooocoooooococooocococococooccccooocccooocccooooccococcoooocococcccoocoocccoocco\n",
            "student16 - occoccccoccccccooooooooocoooooooocooococococococccccooocccoooccoooooccococcoooooococcccoocooccccocco\n",
            "student17 - occoccccoccccccocooooooocoooooooooooococococococccocooocccoooccoooocccococcoooooocococcoocooccccocco\n",
            "student18 - occoccccoccccccoccoooooocoooooooooocococococococccocococccoooccoooocccoooccoooooocococcoooooccccocco\n",
            "student19 - occoccccoccccccocccooooocoooooooooocooocococococccococococoooccoooocccooocccooooocococcoooooccococco\n",
            "student20 - occoccccoccccccoccccoooocoooooooooocooooococococccococococococcoooocccooocccooococococcoooooccococcc\n",
            "student21 - occoccccoccccccocccccooocoooooooooocooooooocococccococococococooooocccooocccooococoooccoooooccococcc\n",
            "student22 - occoccccoccccccoccccccoocoooooooooocooooooooococccococococococooococccooocccooococooocccooooccococcc\n",
            "student23 - occoccccoccccccocccccccocoooooooooocooooooooooocccococococococooocococooocccooococooocccooocccococcc\n",
            "student24 - occoccccoccccccocccccccccoooooooooocooooooooooooccococococococooocococococccooococooocccooocccoooccc\n",
            "student25 - occoccccoccccccoccccccccooooooooooocoooooooooooocoococococococooococococococooococooocccooocccooocco\n",
            "student26 - occoccccoccccccoccccccccocooooooooocoooooooooooocoooocococococooocococococococococooocccooocccooocco\n",
            "student27 - occoccccoccccccoccccccccoccoooooooocoooooooooooocoooooococococooococococococococccooocccooocccooocco\n",
            "student28 - occoccccoccccccoccccccccocccooooooocoooooooooooocoooooooocococooococococococococccococccooocccooocco\n",
            "student29 - occoccccoccccccoccccccccoccccoooooocoooooooooooocoooooooooococooococococococococccocococooocccooocco\n",
            "student30 - occoccccoccccccoccccccccocccccooooocoooooooooooocoooooooooooocooococococococococccocococococccooocco\n",
            "student31 - occoccccoccccccoccccccccoccccccoooocoooooooooooocoooooooooooooooococococococococccococococococooocco\n",
            "student32 - occoccccoccccccoccccccccocccccccooocoooooooooooocoooooooooooooocococococococococccococococococococco\n",
            "student33 - occoccccoccccccoccccccccoccccccccoocoooooooooooocoooooooooooooocooocococococococccococococococococoo\n",
            "student34 - occoccccoccccccoccccccccocccccccccocoooooooooooocoooooooooooooocooooococococococccococococococococoo\n",
            "student35 - occoccccoccccccoccccccccocccccccccccoooooooooooocoooooooooooooocooooooocococococccococococococococoo\n",
            "student36 - occoccccoccccccoccccccccoccccccccccooooooooooooocoooooooooooooocooooooooococococccococococococococoo\n",
            "student37 - occoccccoccccccoccccccccoccccccccccocooooooooooocoooooooooooooocooooooooooocococccococococococococoo\n",
            "student38 - occoccccoccccccoccccccccoccccccccccoccoooooooooocoooooooooooooocooooooooooooococccococococococococoo\n",
            "student39 - occoccccoccccccoccccccccoccccccccccocccooooooooocoooooooooooooocooooooooooooooocccococococococococoo\n",
            "student40 - occoccccoccccccoccccccccoccccccccccoccccoooooooocoooooooooooooocooooooooooooooooccococococococococoo\n",
            "student41 - occoccccoccccccoccccccccoccccccccccocccccooooooocoooooooooooooocoooooooooooooooocoococococococococoo\n",
            "student42 - occoccccoccccccoccccccccoccccccccccoccccccoooooocoooooooooooooocoooooooooooooooocoooocococococococoo\n",
            "student43 - occoccccoccccccoccccccccoccccccccccocccccccooooocoooooooooooooocoooooooooooooooocoooooococococococoo\n",
            "student44 - occoccccoccccccoccccccccoccccccccccoccccccccoooocoooooooooooooocoooooooooooooooocoooooooocococococoo\n",
            "student45 - occoccccoccccccoccccccccoccccccccccocccccccccooocoooooooooooooocoooooooooooooooocoooooooooococococoo\n",
            "student46 - occoccccoccccccoccccccccoccccccccccoccccccccccoocoooooooooooooocoooooooooooooooocoooooooooooocococoo\n",
            "student47 - occoccccoccccccoccccccccoccccccccccocccccccccccocoooooooooooooocoooooooooooooooocoooooooooooooococoo\n",
            "student48 - occoccccoccccccoccccccccoccccccccccocccccccccccccoooooooooooooocoooooooooooooooocoooooooooooooooocoo\n",
            "student49 - occoccccoccccccoccccccccoccccccccccoccccccccccccooooooooooooooocoooooooooooooooocooooooooooooooooooo\n",
            "student50 - occoccccoccccccoccccccccoccccccccccoccccccccccccocooooooooooooocoooooooooooooooocooooooooooooooooooc\n",
            "student51 - occoccccoccccccoccccccccoccccccccccoccccccccccccoccoooooooooooocoooooooooooooooocooooooooooooooooooc\n",
            "student52 - occoccccoccccccoccccccccoccccccccccoccccccccccccocccooooooooooocoooooooooooooooocooooooooooooooooooc\n",
            "student53 - occoccccoccccccoccccccccoccccccccccoccccccccccccoccccoooooooooocoooooooooooooooocooooooooooooooooooc\n",
            "student54 - occoccccoccccccoccccccccoccccccccccoccccccccccccocccccooooooooocoooooooooooooooocooooooooooooooooooc\n",
            "student55 - occoccccoccccccoccccccccoccccccccccoccccccccccccoccccccoooooooocoooooooooooooooocooooooooooooooooooc\n",
            "student56 - occoccccoccccccoccccccccoccccccccccoccccccccccccocccccccooooooocoooooooooooooooocooooooooooooooooooc\n",
            "student57 - occoccccoccccccoccccccccoccccccccccoccccccccccccoccccccccoooooocoooooooooooooooocooooooooooooooooooc\n",
            "student58 - occoccccoccccccoccccccccoccccccccccoccccccccccccocccccccccooooocoooooooooooooooocooooooooooooooooooc\n",
            "student59 - occoccccoccccccoccccccccoccccccccccoccccccccccccoccccccccccoooocoooooooooooooooocooooooooooooooooooc\n",
            "student60 - occoccccoccccccoccccccccoccccccccccoccccccccccccocccccccccccooocoooooooooooooooocooooooooooooooooooc\n",
            "student61 - occoccccoccccccoccccccccoccccccccccoccccccccccccoccccccccccccoocoooooooooooooooocooooooooooooooooooc\n",
            "student62 - occoccccoccccccoccccccccoccccccccccoccccccccccccocccccccccccccocoooooooooooooooocooooooooooooooooooc\n",
            "student63 - occoccccoccccccoccccccccoccccccccccoccccccccccccocccccccccccccccoooooooooooooooocooooooooooooooooooc\n",
            "student64 - occoccccoccccccoccccccccoccccccccccoccccccccccccoccccccccccccccooooooooooooooooocooooooooooooooooooc\n",
            "student65 - occoccccoccccccoccccccccoccccccccccoccccccccccccoccccccccccccccocooooooooooooooocooooooooooooooooooc\n",
            "student66 - occoccccoccccccoccccccccoccccccccccoccccccccccccoccccccccccccccoccoooooooooooooocooooooooooooooooooc\n",
            "student67 - occoccccoccccccoccccccccoccccccccccoccccccccccccoccccccccccccccocccooooooooooooocooooooooooooooooooc\n",
            "student68 - occoccccoccccccoccccccccoccccccccccoccccccccccccoccccccccccccccoccccoooooooooooocooooooooooooooooooc\n",
            "student69 - occoccccoccccccoccccccccoccccccccccoccccccccccccoccccccccccccccocccccooooooooooocooooooooooooooooooc\n",
            "student70 - occoccccoccccccoccccccccoccccccccccoccccccccccccoccccccccccccccoccccccoooooooooocooooooooooooooooooc\n",
            "student71 - occoccccoccccccoccccccccoccccccccccoccccccccccccoccccccccccccccocccccccooooooooocooooooooooooooooooc\n",
            "student72 - occoccccoccccccoccccccccoccccccccccoccccccccccccoccccccccccccccoccccccccoooooooocooooooooooooooooooc\n",
            "student73 - occoccccoccccccoccccccccoccccccccccoccccccccccccoccccccccccccccocccccccccooooooocooooooooooooooooooc\n",
            "student74 - occoccccoccccccoccccccccoccccccccccoccccccccccccoccccccccccccccoccccccccccoooooocooooooooooooooooooc\n",
            "student75 - occoccccoccccccoccccccccoccccccccccoccccccccccccoccccccccccccccocccccccccccooooocooooooooooooooooooc\n",
            "student76 - occoccccoccccccoccccccccoccccccccccoccccccccccccoccccccccccccccoccccccccccccoooocooooooooooooooooooc\n",
            "student77 - occoccccoccccccoccccccccoccccccccccoccccccccccccoccccccccccccccocccccccccccccooocooooooooooooooooooc\n",
            "student78 - occoccccoccccccoccccccccoccccccccccoccccccccccccoccccccccccccccoccccccccccccccoocooooooooooooooooooc\n",
            "student79 - occoccccoccccccoccccccccoccccccccccoccccccccccccoccccccccccccccocccccccccccccccocooooooooooooooooooc\n",
            "student80 - occoccccoccccccoccccccccoccccccccccoccccccccccccoccccccccccccccocccccccccccccccccooooooooooooooooooc\n",
            "student81 - occoccccoccccccoccccccccoccccccccccoccccccccccccoccccccccccccccoccccccccccccccccoooooooooooooooooooc\n",
            "student82 - occoccccoccccccoccccccccoccccccccccoccccccccccccoccccccccccccccoccccccccccccccccocoooooooooooooooooc\n",
            "student83 - occoccccoccccccoccccccccoccccccccccoccccccccccccoccccccccccccccoccccccccccccccccoccooooooooooooooooc\n",
            "student84 - occoccccoccccccoccccccccoccccccccccoccccccccccccoccccccccccccccoccccccccccccccccocccoooooooooooooooc\n",
            "student85 - occoccccoccccccoccccccccoccccccccccoccccccccccccoccccccccccccccoccccccccccccccccoccccooooooooooooooc\n",
            "student86 - occoccccoccccccoccccccccoccccccccccoccccccccccccoccccccccccccccoccccccccccccccccocccccoooooooooooooc\n",
            "student87 - occoccccoccccccoccccccccoccccccccccoccccccccccccoccccccccccccccoccccccccccccccccoccccccooooooooooooc\n",
            "student88 - occoccccoccccccoccccccccoccccccccccoccccccccccccoccccccccccccccoccccccccccccccccocccccccoooooooooooc\n",
            "student89 - occoccccoccccccoccccccccoccccccccccoccccccccccccoccccccccccccccoccccccccccccccccoccccccccooooooooooc\n",
            "student90 - occoccccoccccccoccccccccoccccccccccoccccccccccccoccccccccccccccoccccccccccccccccocccccccccoooooooooc\n",
            "student91 - occoccccoccccccoccccccccoccccccccccoccccccccccccoccccccccccccccoccccccccccccccccoccccccccccooooooooc\n",
            "student92 - occoccccoccccccoccccccccoccccccccccoccccccccccccoccccccccccccccoccccccccccccccccocccccccccccoooooooc\n",
            "student93 - occoccccoccccccoccccccccoccccccccccoccccccccccccoccccccccccccccoccccccccccccccccoccccccccccccooooooc\n",
            "student94 - occoccccoccccccoccccccccoccccccccccoccccccccccccoccccccccccccccoccccccccccccccccocccccccccccccoooooc\n",
            "student95 - occoccccoccccccoccccccccoccccccccccoccccccccccccoccccccccccccccoccccccccccccccccoccccccccccccccooooc\n",
            "student96 - occoccccoccccccoccccccccoccccccccccoccccccccccccoccccccccccccccoccccccccccccccccocccccccccccccccoooc\n",
            "student97 - occoccccoccccccoccccccccoccccccccccoccccccccccccoccccccccccccccoccccccccccccccccoccccccccccccccccooc\n",
            "student98 - occoccccoccccccoccccccccoccccccccccoccccccccccccoccccccccccccccoccccccccccccccccocccccccccccccccccoc\n",
            "student99 - occoccccoccccccoccccccccoccccccccccoccccccccccccoccccccccccccccoccccccccccccccccoccccccccccccccccccc\n",
            "student100 - occoccccoccccccoccccccccoccccccccccoccccccccccccoccccccccccccccoccccccccccccccccocccccccccccccccccco\n"
          ]
        }
      ]
    }
  ]
}