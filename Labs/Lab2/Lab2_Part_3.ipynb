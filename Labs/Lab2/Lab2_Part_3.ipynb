{
  "nbformat": 4,
  "nbformat_minor": 0,
  "metadata": {
    "colab": {
      "provenance": [],
      "authorship_tag": "ABX9TyNulJBP76TyIoGNyKHhHU9k",
      "include_colab_link": true
    },
    "kernelspec": {
      "name": "python3",
      "display_name": "Python 3"
    },
    "language_info": {
      "name": "python"
    }
  },
  "cells": [
    {
      "cell_type": "markdown",
      "metadata": {
        "id": "view-in-github",
        "colab_type": "text"
      },
      "source": [
        "<a href=\"https://colab.research.google.com/github/bsati1010/HWs/blob/main/Labs/Lab2/Lab2_Part_3.ipynb\" target=\"_parent\"><img src=\"https://colab.research.google.com/assets/colab-badge.svg\" alt=\"Open In Colab\"/></a>"
      ]
    },
    {
      "cell_type": "code",
      "execution_count": null,
      "metadata": {
        "id": "jhHgrNep5GHP"
      },
      "outputs": [],
      "source": [
        "def get_matching_event (event_condition, sample_space):\n",
        "  return set([outcome for outcome in sample_space if event_condition(outcome)])"
      ]
    },
    {
      "cell_type": "code",
      "source": [
        "def compute_event_probability(event_condition, generic_sample_space):\n",
        "  event = get_matching_event (event_condition, generic_sample_space)\n",
        "  if type(generic_sample_space) == type(set()):\n",
        "    return len(event) / len(generic_sample_space)\n",
        "  event_size = sum(generic_sample_space[outcome] for outcome in event)\n",
        "  return event_size / sum (generic_sample_space. values())"
      ],
      "metadata": {
        "id": "x5Uh7U4fadHj"
      },
      "execution_count": null,
      "outputs": []
    },
    {
      "cell_type": "code",
      "source": [
        "possible_rolls = list (range (1, 7))\n",
        "print(possible_rolls)"
      ],
      "metadata": {
        "colab": {
          "base_uri": "https://localhost:8080/"
        },
        "id": "ugmO3qJYaqFO",
        "outputId": "b75ff9de-278c-4ce7-e005-da7fb6a01c37"
      },
      "execution_count": null,
      "outputs": [
        {
          "output_type": "stream",
          "name": "stdout",
          "text": [
            "[1, 2, 3, 4, 5, 6]\n"
          ]
        }
      ]
    },
    {
      "cell_type": "code",
      "source": [
        "from itertools import product\n",
        "sample_space = set(product(possible_rolls, repeat=6))"
      ],
      "metadata": {
        "id": "Sc7TnsTpa1wT"
      },
      "execution_count": null,
      "outputs": []
    },
    {
      "cell_type": "code",
      "source": [
        "len(sample_space)"
      ],
      "metadata": {
        "colab": {
          "base_uri": "https://localhost:8080/"
        },
        "id": "s315PIENa8pj",
        "outputId": "431bf5da-3208-4a92-ddfe-209c59440c6f"
      },
      "execution_count": null,
      "outputs": [
        {
          "output_type": "execute_result",
          "data": {
            "text/plain": [
              "46656"
            ]
          },
          "metadata": {},
          "execution_count": 7
        }
      ]
    },
    {
      "cell_type": "code",
      "source": [
        "def has_sum_of_21(outcome): return sum(outcome) == 21"
      ],
      "metadata": {
        "id": "NEtIxxlUbBCY"
      },
      "execution_count": null,
      "outputs": []
    },
    {
      "cell_type": "code",
      "source": [
        "a = compute_event_probability(has_sum_of_21, sample_space)\n",
        "print(f\"6 rolls sum to 21 with a probability of {a}\")"
      ],
      "metadata": {
        "colab": {
          "base_uri": "https://localhost:8080/"
        },
        "id": "m6-Ppis3bN2f",
        "outputId": "2b504331-8f47-4ff8-9bdb-3a7c5fb2c314"
      },
      "execution_count": null,
      "outputs": [
        {
          "output_type": "stream",
          "name": "stdout",
          "text": [
            "6 rolls sum to 21 with a probability of 0.09284979423868313\n"
          ]
        }
      ]
    },
    {
      "cell_type": "code",
      "source": [
        "b = compute_event_probability(lambda x: sum (x) == 21, sample_space)\n",
        "assert a==b"
      ],
      "metadata": {
        "id": "3WPPfS1SbUKa"
      },
      "execution_count": null,
      "outputs": []
    }
  ]
}