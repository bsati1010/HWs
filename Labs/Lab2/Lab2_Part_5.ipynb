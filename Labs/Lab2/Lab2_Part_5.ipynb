{
  "nbformat": 4,
  "nbformat_minor": 0,
  "metadata": {
    "colab": {
      "provenance": [],
      "authorship_tag": "ABX9TyODhEd/i0JfyXSPRcl6PDer",
      "include_colab_link": true
    },
    "kernelspec": {
      "name": "python3",
      "display_name": "Python 3"
    },
    "language_info": {
      "name": "python"
    }
  },
  "cells": [
    {
      "cell_type": "markdown",
      "metadata": {
        "id": "view-in-github",
        "colab_type": "text"
      },
      "source": [
        "<a href=\"https://colab.research.google.com/github/bsati1010/HWs/blob/main/Labs/Lab2/Lab2_Part_5.ipynb\" target=\"_parent\"><img src=\"https://colab.research.google.com/assets/colab-badge.svg\" alt=\"Open In Colab\"/></a>"
      ]
    },
    {
      "cell_type": "code",
      "execution_count": null,
      "metadata": {
        "id": "FlIQ4SS_daZf"
      },
      "outputs": [],
      "source": [
        "def get_matching_event (event_condition, sample_space):\n",
        "  return set([outcome for outcome in sample_space if event_condition(outcome )])"
      ]
    },
    {
      "cell_type": "code",
      "source": [
        "def compute_event_probability(event_condition, generic_sample_space):\n",
        "  event = get_matching_event(event_condition, generic_sample_space)\n",
        "  if type(generic_sample_space) == type(set()):\n",
        "    return len(event)/len(generic_sample_space)\n",
        "  else: # Assuming it's a dictionary (weighted sample space)\n",
        "    event_size = sum(generic_sample_space[outcome] for outcome in event)\n",
        "    return event_size / sum(generic_sample_space.values())"
      ],
      "metadata": {
        "id": "8M9eYAkTd4QR"
      },
      "execution_count": null,
      "outputs": []
    },
    {
      "cell_type": "code",
      "source": [
        "from itertools import product\n",
        "from collections import defaultdict\n",
        "def generate_coin_sample_space(num_flips=10):\n",
        "  weighted_sample_space = defaultdict(int)\n",
        "  for coin_flips in product (['Heads', 'Tails'], repeat=num_flips):\n",
        "    heads_count = len([outcome for outcome in coin_flips if outcome == 'Heads'])\n",
        "    weighted_sample_space [heads_count] += 1\n",
        "  return weighted_sample_space"
      ],
      "metadata": {
        "id": "w_sw7XIreS67"
      },
      "execution_count": null,
      "outputs": []
    },
    {
      "cell_type": "code",
      "source": [
        "def is_in_interval (number, minimum, maximum): return minimum <= number <= maximum"
      ],
      "metadata": {
        "id": "9Yo27xJlew97"
      },
      "execution_count": null,
      "outputs": []
    },
    {
      "cell_type": "code",
      "source": [
        "weighted_sample_space = generate_coin_sample_space()\n",
        "prob = compute_event_probability(lambda x: is_in_interval(x, 8, 10), weighted_sample_space)\n",
        "print(f\"Probability of observing more than 7 heads is {prob}\")"
      ],
      "metadata": {
        "id": "Dg9Qc-hMe0D4",
        "colab": {
          "base_uri": "https://localhost:8080/"
        },
        "outputId": "4cabdc93-3cc2-41c2-f0b6-2a0a4fc70dd6"
      },
      "execution_count": null,
      "outputs": [
        {
          "output_type": "stream",
          "name": "stdout",
          "text": [
            "Probability of observing more than 7 heads is 0.0546875\n"
          ]
        }
      ]
    },
    {
      "cell_type": "code",
      "source": [
        "prob = compute_event_probability (lambda x: not is_in_interval (x, 3, 7), weighted_sample_space)\n",
        "print(f\"Probability of observing more than 7 heads or 7 tails is {prob}\")"
      ],
      "metadata": {
        "id": "tqrtJRnHe6Gu",
        "colab": {
          "base_uri": "https://localhost:8080/"
        },
        "outputId": "a82fad2f-3b4d-428a-9c29-55382f61a118"
      },
      "execution_count": null,
      "outputs": [
        {
          "output_type": "stream",
          "name": "stdout",
          "text": [
            "Probability of observing more than 7 heads or 7 tails is 0.109375\n"
          ]
        }
      ]
    },
    {
      "cell_type": "code",
      "source": [
        "weighted_sample_space_20_flips = generate_coin_sample_space(num_flips=20)\n",
        "prob = compute_event_probability(lambda x: not is_in_interval (x, 5, 15), weighted_sample_space_20_flips)\n",
        "print(f\"Probability of observing more than 15 heads or 15 tails is {prob}\")"
      ],
      "metadata": {
        "id": "tFuNrGCSfAL9",
        "colab": {
          "base_uri": "https://localhost:8080/"
        },
        "outputId": "67fe9692-4d62-44ae-e6b8-3f3bf375c016"
      },
      "execution_count": null,
      "outputs": [
        {
          "output_type": "stream",
          "name": "stdout",
          "text": [
            "Probability of observing more than 15 heads or 15 tails is 0.01181793212890625\n"
          ]
        }
      ]
    }
  ]
}