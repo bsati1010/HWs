{
  "nbformat": 4,
  "nbformat_minor": 0,
  "metadata": {
    "colab": {
      "provenance": [],
      "authorship_tag": "ABX9TyMwy5cq3YzqzDnRiDFJSqiw",
      "include_colab_link": true
    },
    "kernelspec": {
      "name": "python3",
      "display_name": "Python 3"
    },
    "language_info": {
      "name": "python"
    }
  },
  "cells": [
    {
      "cell_type": "markdown",
      "metadata": {
        "id": "view-in-github",
        "colab_type": "text"
      },
      "source": [
        "<a href=\"https://colab.research.google.com/github/bsati1010/HWs/blob/main/Labs/Lab2/Lab2_Part_4.ipynb\" target=\"_parent\"><img src=\"https://colab.research.google.com/assets/colab-badge.svg\" alt=\"Open In Colab\"/></a>"
      ]
    },
    {
      "cell_type": "code",
      "execution_count": null,
      "metadata": {
        "id": "PPrad_5lbrH0"
      },
      "outputs": [],
      "source": [
        "def get_matching_event (event_condition, sample_space):\n",
        "  return set([outcome for outcome in sample_space if event_condition (outcome)])"
      ]
    },
    {
      "cell_type": "code",
      "source": [
        "def compute_event_probability(event_condition, generic_sample_space):\n",
        "  event = get_matching_event(event_condition, generic_sample_space)\n",
        "  if type(generic_sample_space) == type(set()):\n",
        "    return len(event)/len(generic_sample_space)\n",
        "  event_size = sum(generic_sample_space [outcome] for outcome in event)\n",
        "  return event_size / sum(generic_sample_space.values ())"
      ],
      "metadata": {
        "id": "JtlCnGXdcMwG"
      },
      "execution_count": null,
      "outputs": []
    },
    {
      "cell_type": "code",
      "source": [
        "possible_rolls = list(range(1, 7))\n",
        "print (possible_rolls)"
      ],
      "metadata": {
        "colab": {
          "base_uri": "https://localhost:8080/"
        },
        "id": "U7PCPMv6coM_",
        "outputId": "6af6625c-b6e8-47d3-9617-c062f587e073"
      },
      "execution_count": null,
      "outputs": [
        {
          "output_type": "stream",
          "name": "stdout",
          "text": [
            "[1, 2, 3, 4, 5, 6]\n"
          ]
        }
      ]
    },
    {
      "cell_type": "code",
      "source": [
        "from itertools import product\n",
        "sample_space = set(product(possible_rolls, repeat=6))"
      ],
      "metadata": {
        "id": "80vnrxPJcteq"
      },
      "execution_count": null,
      "outputs": []
    },
    {
      "cell_type": "code",
      "source": [
        "from collections import defaultdict\n",
        "weighted_sample_space = defaultdict(int)\n",
        "for outcome in sample_space:\n",
        "  total = sum(outcome)\n",
        "  weighted_sample_space[total] += 1"
      ],
      "metadata": {
        "id": "7ubw0oyScyxO"
      },
      "execution_count": null,
      "outputs": []
    },
    {
      "cell_type": "code",
      "source": [
        "def is_in_interval (number, minimum, maximum):\n",
        "  return minimum <= number <= maximum"
      ],
      "metadata": {
        "id": "tvLI3kMvc-N7"
      },
      "execution_count": null,
      "outputs": []
    },
    {
      "cell_type": "code",
      "source": [
        "prob = compute_event_probability(lambda x: is_in_interval(x, 10, 21), weighted_sample_space)\n",
        "print(f\"Probability of interval is {prob}\")"
      ],
      "metadata": {
        "colab": {
          "base_uri": "https://localhost:8080/"
        },
        "id": "xFY6zRf5dGqJ",
        "outputId": "9de497cb-9bb9-4ebf-c842-c2739394922c"
      },
      "execution_count": null,
      "outputs": [
        {
          "output_type": "stream",
          "name": "stdout",
          "text": [
            "Probability of interval is 0.5446244855967078\n"
          ]
        }
      ]
    }
  ]
}