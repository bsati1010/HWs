{
  "nbformat": 4,
  "nbformat_minor": 0,
  "metadata": {
    "colab": {
      "provenance": [],
      "authorship_tag": "ABX9TyN0fDutRW6RvLnKJ4lJMr/u",
      "include_colab_link": true
    },
    "kernelspec": {
      "name": "python3",
      "display_name": "Python 3"
    },
    "language_info": {
      "name": "python"
    }
  },
  "cells": [
    {
      "cell_type": "markdown",
      "metadata": {
        "id": "view-in-github",
        "colab_type": "text"
      },
      "source": [
        "<a href=\"https://colab.research.google.com/github/bsati1010/HWs/blob/main/Labs/Lab2/Lab2_Part_1.ipynb\" target=\"_parent\"><img src=\"https://colab.research.google.com/assets/colab-badge.svg\" alt=\"Open In Colab\"/></a>"
      ]
    },
    {
      "cell_type": "markdown",
      "source": [
        "# **Lab2 Part 1**"
      ],
      "metadata": {
        "id": "tWQhexcp1dPk"
      }
    },
    {
      "cell_type": "code",
      "execution_count": null,
      "metadata": {
        "id": "_ngpN-KwzER7"
      },
      "outputs": [],
      "source": [
        "sample_space = {\"heads\",'tails'}  #Define a sample space"
      ]
    },
    {
      "cell_type": "code",
      "source": [
        "def is_heads_or_tails(outcome):\n",
        "  return outcome in {'Heads', 'Tails'}\n",
        "def is_neither(outcome):\n",
        "  return not is_heads_or_tails (outcome )\n"
      ],
      "metadata": {
        "id": "5rzMJ6VPTdjj"
      },
      "execution_count": null,
      "outputs": []
    },
    {
      "cell_type": "code",
      "source": [
        "def is_heads (outcome):\n",
        "  return outcome == 'Heads'\n",
        "def is_tails(outcome):\n",
        "  return outcome == 'Tails'\n"
      ],
      "metadata": {
        "id": "_L7XY71ATmLz"
      },
      "execution_count": null,
      "outputs": []
    },
    {
      "cell_type": "code",
      "source": [
        "def get_matching_event(event_condition, sample_space):\n",
        "  return set([outcome for outcome in sample_space if event_condition(outcome )])\n"
      ],
      "metadata": {
        "id": "rd7ccrYYTpsU"
      },
      "execution_count": null,
      "outputs": []
    },
    {
      "cell_type": "code",
      "source": [
        "event_conditions = [is_heads_or_tails, is_heads, is_tails, is_neither]"
      ],
      "metadata": {
        "id": "6jfChGLlXJEv"
      },
      "execution_count": null,
      "outputs": []
    },
    {
      "cell_type": "code",
      "source": [
        "weighted_sample_space = {'Heads': 4, 'Tails': 1}"
      ],
      "metadata": {
        "id": "SzHQd_gDXMp8"
      },
      "execution_count": null,
      "outputs": []
    },
    {
      "cell_type": "code",
      "source": [
        "def compute_event_probability(event_condition, generic_sample_space):\n",
        "  event = get_matching_event(event_condition, generic_sample_space)\n",
        "  if type (generic_sample_space) == type (set ( )):\n",
        "    return len(event) / len (generic_sample_space)\n",
        "  event_size = sum (generic_sample_space[outcome] for outcome in event)\n",
        "  return event_size / sum(generic_sample_space.values ())\n"
      ],
      "metadata": {
        "id": "TU0GyIBnXPPj"
      },
      "execution_count": null,
      "outputs": []
    },
    {
      "cell_type": "code",
      "source": [
        "for event_condition in event_conditions:\n",
        "  prob = compute_event_probability (event_condition, weighted_sample_space)\n",
        "  name = event_condition.__name__\n",
        "  print(f\"Probability of event arising from '{name}' is {prob}\")"
      ],
      "metadata": {
        "colab": {
          "base_uri": "https://localhost:8080/"
        },
        "id": "ZY80r0zYXk6P",
        "outputId": "68a083c0-c29a-438f-ffdb-25a62b4fbb1c"
      },
      "execution_count": null,
      "outputs": [
        {
          "output_type": "stream",
          "name": "stdout",
          "text": [
            "Probability of event arising from 'is_heads_or_tails' is 1.0\n",
            "Probability of event arising from 'is_heads' is 0.8\n",
            "Probability of event arising from 'is_tails' is 0.2\n",
            "Probability of event arising from 'is_neither' is 0.0\n"
          ]
        }
      ]
    },
    {
      "cell_type": "code",
      "source": [
        "for event_condition in event_conditions:\n",
        "  prob = compute_event_probability(event_condition, sample_space)\n",
        "  name = event_condition.__name__\n",
        "  print(f\"Probability of event arising from '{name}' is {prob}\")"
      ],
      "metadata": {
        "colab": {
          "base_uri": "https://localhost:8080/"
        },
        "id": "bHL8HDoAYSrQ",
        "outputId": "90809b59-694c-406e-b5c3-f60e980b3f96"
      },
      "execution_count": null,
      "outputs": [
        {
          "output_type": "stream",
          "name": "stdout",
          "text": [
            "Probability of event arising from 'is_heads_or_tails' is 0.0\n",
            "Probability of event arising from 'is_heads' is 0.0\n",
            "Probability of event arising from 'is_tails' is 0.0\n",
            "Probability of event arising from 'is_neither' is 1.0\n"
          ]
        }
      ]
    }
  ]
}