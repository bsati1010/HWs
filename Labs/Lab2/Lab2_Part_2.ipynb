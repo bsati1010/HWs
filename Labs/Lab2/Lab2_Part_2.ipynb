{
  "nbformat": 4,
  "nbformat_minor": 0,
  "metadata": {
    "colab": {
      "provenance": [],
      "authorship_tag": "ABX9TyOfdOnFC7b8VWT2bEbjQot4",
      "include_colab_link": true
    },
    "kernelspec": {
      "name": "python3",
      "display_name": "Python 3"
    },
    "language_info": {
      "name": "python"
    }
  },
  "cells": [
    {
      "cell_type": "markdown",
      "metadata": {
        "id": "view-in-github",
        "colab_type": "text"
      },
      "source": [
        "<a href=\"https://colab.research.google.com/github/bsati1010/HWs/blob/main/Labs/Lab2/Lab2_Part_2.ipynb\" target=\"_parent\"><img src=\"https://colab.research.google.com/assets/colab-badge.svg\" alt=\"Open In Colab\"/></a>"
      ]
    },
    {
      "cell_type": "markdown",
      "source": [
        "# **Lab2 Part2**"
      ],
      "metadata": {
        "id": "OmjIj2iz36Jf"
      }
    },
    {
      "cell_type": "code",
      "execution_count": null,
      "metadata": {
        "id": "sF_nR3Pl35VG"
      },
      "outputs": [],
      "source": [
        "def get_matching_event(event_condition,sample_space):\n",
        "  return set([outcome for outcome in sample_space if event_condition(outcome)])"
      ]
    },
    {
      "cell_type": "code",
      "source": [
        "def compute_event_probability(event_condition,generic_sample_space):\n",
        "  event = get_matching_event(event_condition,generic_sample_space)\n",
        "  if type(generic_sample_space) == type(set()):\n",
        "    return len(event)/len(generic_sample_space)\n",
        "  event_size = sum(generic_sample_space[outcome] for outcome in event)\n",
        "  return event_size/sum(generic_sample_space.values())"
      ],
      "metadata": {
        "id": "afFRYiBR4BUt"
      },
      "execution_count": null,
      "outputs": []
    },
    {
      "cell_type": "code",
      "source": [
        "possible_children = ['Boy','Girl']"
      ],
      "metadata": {
        "id": "-Exzuggm26p-"
      },
      "execution_count": null,
      "outputs": []
    },
    {
      "cell_type": "code",
      "source": [
        "from itertools import product\n",
        "sample_space_efficient = set(product(possible_children,repeat=4))"
      ],
      "metadata": {
        "id": "9Okq6nrW4Cr5"
      },
      "execution_count": null,
      "outputs": []
    },
    {
      "cell_type": "code",
      "source": [
        "sample_space_efficient"
      ],
      "metadata": {
        "colab": {
          "base_uri": "https://localhost:8080/"
        },
        "id": "zvuMHi3P4H3d",
        "outputId": "cbae1ba5-6793-4b0b-8cd0-ca0dd2913f7c"
      },
      "execution_count": null,
      "outputs": [
        {
          "output_type": "execute_result",
          "data": {
            "text/plain": [
              "{('Boy', 'Boy', 'Boy', 'Boy'),\n",
              " ('Boy', 'Boy', 'Boy', 'Girl'),\n",
              " ('Boy', 'Boy', 'Girl', 'Boy'),\n",
              " ('Boy', 'Boy', 'Girl', 'Girl'),\n",
              " ('Boy', 'Girl', 'Boy', 'Boy'),\n",
              " ('Boy', 'Girl', 'Boy', 'Girl'),\n",
              " ('Boy', 'Girl', 'Girl', 'Boy'),\n",
              " ('Boy', 'Girl', 'Girl', 'Girl'),\n",
              " ('Girl', 'Boy', 'Boy', 'Boy'),\n",
              " ('Girl', 'Boy', 'Boy', 'Girl'),\n",
              " ('Girl', 'Boy', 'Girl', 'Boy'),\n",
              " ('Girl', 'Boy', 'Girl', 'Girl'),\n",
              " ('Girl', 'Girl', 'Boy', 'Boy'),\n",
              " ('Girl', 'Girl', 'Boy', 'Girl'),\n",
              " ('Girl', 'Girl', 'Girl', 'Boy'),\n",
              " ('Girl', 'Girl', 'Girl', 'Girl')}"
            ]
          },
          "metadata": {},
          "execution_count": 18
        }
      ]
    },
    {
      "cell_type": "code",
      "source": [
        "# assert sample_space == sample_space_efficient"
      ],
      "metadata": {
        "id": "pWU121Ze4IfV"
      },
      "execution_count": null,
      "outputs": []
    },
    {
      "cell_type": "code",
      "source": [
        "def has_two_boys(outcome):\n",
        "  return len([child for child in outcome if child == 'Boy']) == 2"
      ],
      "metadata": {
        "id": "8jkPFDD34aj_"
      },
      "execution_count": null,
      "outputs": []
    },
    {
      "cell_type": "code",
      "source": [
        "prob = compute_event_probability(has_two_boys,sample_space_efficient)\n",
        "print(f'Probability of 2 boys is {prob}')"
      ],
      "metadata": {
        "id": "crP6jQCS4hQo",
        "colab": {
          "base_uri": "https://localhost:8080/"
        },
        "outputId": "ea90b9b1-5184-4ccc-ec72-5e012241274e"
      },
      "execution_count": null,
      "outputs": [
        {
          "output_type": "stream",
          "name": "stdout",
          "text": [
            "Probability of 2 boys is 0.375\n"
          ]
        }
      ]
    }
  ]
}